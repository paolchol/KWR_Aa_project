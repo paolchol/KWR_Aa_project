{
 "cells": [
  {
   "cell_type": "code",
   "execution_count": 1,
   "metadata": {},
   "outputs": [
    {
     "ename": "ModuleNotFoundError",
     "evalue": "No module named 'pyproj'",
     "output_type": "error",
     "traceback": [
      "Traceback \u001b[1;36m(most recent call last)\u001b[0m:\n",
      "\u001b[1;36m  File \u001b[1;32m\"<ipython-input-1-a3b160b2ef48>\"\u001b[1;36m, line \u001b[1;32m3\u001b[1;36m, in \u001b[1;35m<module>\u001b[1;36m\u001b[0m\n\u001b[1;33m    import pyproj\u001b[0m\n",
      "\u001b[1;31mModuleNotFoundError\u001b[0m\u001b[1;31m:\u001b[0m No module named 'pyproj'\n"
     ]
    }
   ],
   "source": [
    "import numpy as np\n",
    "import datetime as dt\n",
    "import pyproj\n",
    "import matplotlib.pyplot as plt\n",
    "import matplotlib.path as mpltPath\n",
    "import netCDF4 as nc\n",
    "% matplotlib inline"
   ]
  },
  {
   "cell_type": "markdown",
   "metadata": {},
   "source": [
    "# Load rainfall data (1km res) - data courtesy KNMI"
   ]
  },
  {
   "cell_type": "code",
   "execution_count": 2,
   "metadata": {},
   "outputs": [
    {
     "ename": "NameError",
     "evalue": "name 'nc' is not defined",
     "output_type": "error",
     "traceback": [
      "Traceback \u001b[1;36m(most recent call last)\u001b[0m:\n",
      "\u001b[1;36m  File \u001b[1;32m\"<ipython-input-2-386414e1ebd6>\"\u001b[1;36m, line \u001b[1;32m10\u001b[1;36m, in \u001b[1;35m<module>\u001b[1;36m\u001b[0m\n\u001b[1;33m    ds = nc.Dataset(cur_radar_dir + file_name)\u001b[0m\n",
      "\u001b[1;31mNameError\u001b[0m\u001b[1;31m:\u001b[0m name 'nc' is not defined\n"
     ]
    }
   ],
   "source": [
    "radar_dir = '/media/kriete/TOSHIBA EXT/Data/radar_data/'\n",
    "year = 2017\n",
    "month = 12\n",
    "cur_radar_dir = '%s/%4d/%2d/' % (radar_dir, year, month)\n",
    "cur_dt = dt.datetime(year, month, 1)\n",
    "\n",
    "file_name = 'RAD_NL25_RAC_MFBS_EM_5min_201712071500.nc'\n",
    "\n",
    "# Loading of the dataset & extracting x and y coordinates\n",
    "ds = nc.Dataset(cur_radar_dir + file_name)\n",
    "x = np.array(ds['x'])\n",
    "y = np.array(ds['y'])\n",
    "\n",
    "# transform  x and y to meshgrid\n",
    "xgrid, ygrid=np.meshgrid(x, y)\n",
    "\n",
    "# load data in gridded format and put NaN for invalid values\n",
    "data = np.array(ds['image1_image_data'])\n",
    "data[data==65535] = np.nan\n",
    "\n",
    "# plot the data\n",
    "fig = plt.figure()\n",
    "plt.pcolormesh(xgrid, ygrid, data[0], vmin=0, vmax=1)\n",
    "plt.xlim([230, 510])\n",
    "plt.ylim([-4250, -3900])\n",
    "plt.colorbar()"
   ]
  },
  {
   "cell_type": "markdown",
   "metadata": {},
   "source": [
    "# Define the polygon we want to extract data from (should be the region Den Hague, Rotterdam, Dordrecht)"
   ]
  },
  {
   "cell_type": "markdown",
   "metadata": {},
   "source": [
    "###### One should note that they have to be in the same projection as the gridded dataset. Hence we need a transformation."
   ]
  },
  {
   "cell_type": "code",
   "execution_count": 3,
   "metadata": {},
   "outputs": [],
   "source": [
    "polygon = [\n",
    "    [52.122645, 4.297280],\n",
    "    [51.982460, 4.442848],\n",
    "    [51.943959, 4.745659],\n",
    "    [51.698716, 4.889673],\n",
    "    [51.679452, 4.237118],\n",
    "    [52.029725, 3.814706]\n",
    "]"
   ]
  },
  {
   "cell_type": "markdown",
   "metadata": {},
   "source": [
    "###### Now let's transform these coordinates to the target projection. (from WGS84 to PROJ4)"
   ]
  },
  {
   "cell_type": "code",
   "execution_count": 4,
   "metadata": {},
   "outputs": [
    {
     "name": "stdout",
     "output_type": "stream",
     "text": [
      "[[  306.62246171 -4080.53903753]\n",
      " [  318.24916046 -4095.97009122]\n",
      " [  340.2619463  -4098.68697689]\n",
      " [  352.99270207 -4126.22033686]\n",
      " [  306.14190138 -4132.20767539]\n",
      " [  272.96111167 -4093.73722386]]\n"
     ]
    }
   ],
   "source": [
    "projparams = {\n",
    "    'proj': 'stere',\n",
    "    'lat_0': 90,\n",
    "    'lon_0': 0,\n",
    "    'lat_ts': 60,\n",
    "    'a': 6378.137,\n",
    "    'b': 6356.752,\n",
    "    'x_0': 0,\n",
    "    'y_0':0    \n",
    "}\n",
    "p1 = pyproj.Proj(projparams)\n",
    "\n",
    "wgs84 = pyproj.Proj(init='epsg:4326')\n",
    "new_points = []\n",
    "for cur_point in polygon:\n",
    "    cur_lat = cur_point[0]\n",
    "    cur_lon = cur_point[1]\n",
    "    new_x, new_y = pyproj.transform(wgs84, p1, cur_lon, cur_lat, radians=False)\n",
    "    new_points.append([new_x, new_y])\n",
    "print(np.array(new_points))"
   ]
  },
  {
   "cell_type": "markdown",
   "metadata": {},
   "source": [
    "###### Now let's define a function that takes"
   ]
  },
  {
   "cell_type": "code",
   "execution_count": 5,
   "metadata": {},
   "outputs": [],
   "source": [
    "def get_inside_data(xgrid, ygrid, data, selection_polygon):\n",
    "    temp_data = data.copy()\n",
    "    XY = np.dstack((xgrid, ygrid))\n",
    "    XY_flat = XY.reshape((-1, 2)) # Transform from 2D to 1D\n",
    "\n",
    "    path = mpltPath.Path(selection_polygon)\n",
    "    inside_flat = path.contains_points(XY_flat) # 1D mask of points that are inside\n",
    "    inside = inside_flat.reshape(xgrid.shape) # 2D mask of points that are inside\n",
    "    \n",
    "    temp_data[~inside] = np.nan\n",
    "    return temp_data"
   ]
  },
  {
   "cell_type": "markdown",
   "metadata": {},
   "source": [
    "###### If you give the gridded x, y and z data as well as the desired polygon coordinates into the function, you'll get the data that's inside of the polygon."
   ]
  },
  {
   "cell_type": "markdown",
   "metadata": {},
   "source": [
    "###### Let's call that function to get only the \"cropped\" data"
   ]
  },
  {
   "cell_type": "code",
   "execution_count": 6,
   "metadata": {},
   "outputs": [],
   "source": [
    "z = get_inside_data(xgrid, ygrid, data[0], new_points)"
   ]
  },
  {
   "cell_type": "markdown",
   "metadata": {},
   "source": [
    "###### Let's look at the data"
   ]
  },
  {
   "cell_type": "code",
   "execution_count": 7,
   "metadata": {},
   "outputs": [
    {
     "data": {
      "text/plain": [
       "(-4131.5, -4081.5)"
      ]
     },
     "execution_count": 7,
     "metadata": {},
     "output_type": "execute_result"
    },
    {
     "data": {
      "image/png": "[encoded data removed]",
      "text/plain": [
       "<matplotlib.figure.Figure at 0x7f60dcf40f60>"
      ]
     },
     "metadata": {},
     "output_type": "display_data"
    }
   ],
   "source": [
    "non_nan_idx = ~np.isnan(z)\n",
    "plt.pcolormesh(xgrid, ygrid, z, vmin=0, vmax=1)\n",
    "plt.xlim([np.nanmin(xgrid[non_nan_idx]), np.nanmax(xgrid[non_nan_idx])])\n",
    "plt.ylim([np.nanmin(ygrid[non_nan_idx]), np.nanmax(ygrid[non_nan_idx])])"
   ]
  },
  {
   "cell_type": "markdown",
   "metadata": {},
   "source": [
    "###### Recall that the returned array will be of the same size as the input grid. I just put NaNs for the values outside of the polygon area."
   ]
  }
 ],
 "metadata": {
  "kernelspec": {
   "display_name": "Python 3 (Spyder)",
   "language": "python3",
   "name": "python3"
  },
  "language_info": {
   "codemirror_mode": {
    "name": "ipython",
    "version": 3
   },
   "file_extension": ".py",
   "mimetype": "text/x-python",
   "name": "python",
   "nbconvert_exporter": "python",
   "pygments_lexer": "ipython3",
   "version": "3.8.5"
  }
 },
 "nbformat": 4,
 "nbformat_minor": 4
}
